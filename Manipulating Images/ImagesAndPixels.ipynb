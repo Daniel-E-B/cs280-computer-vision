{
 "cells": [
  {
   "cell_type": "markdown",
   "metadata": {},
   "source": [
    "## Before you begin\n",
    "You will need to install scikit-image, and restart jupyter notebook. Use the following commands:\n",
    "```\n",
    "# install sci-kit image\n",
    "pip3 install scikit-image\n",
    "\n",
    "# shut down the currently running Jupyter notebook server\n",
    "# you can also just hit Ctrl-C in the terminal where you typed \"jupyter notebook\" to start the server\n",
    "kill -9 $(ps aux | grep jupyter | grep Library | awk '{print $2}')\n",
    "\n",
    "# restart the server\n",
    "jupyter notebook\n",
    "```"
   ]
  },
  {
   "cell_type": "code",
   "execution_count": null,
   "metadata": {},
   "outputs": [],
   "source": [
    "from skimage import io\n",
    "import numpy as np\n",
    "import matplotlib.pyplot as plt\n",
    "\n",
    "# This code is to make matplotlib figures appear inline in the\n",
    "# notebook rather than in a new window.\n",
    "%matplotlib inline\n",
    "plt.rcParams['figure.figsize'] = (10.0, 8.0) # set default size of plots\n",
    "plt.rcParams['image.interpolation'] = 'nearest'\n",
    "plt.rcParams['image.cmap'] = 'gray'"
   ]
  },
  {
   "cell_type": "markdown",
   "metadata": {},
   "source": [
    "First, let's define a function that lets you load images from disk. Note that these images must be in the same directory as this Jupyter notebook file."
   ]
  },
  {
   "cell_type": "code",
   "execution_count": null,
   "metadata": {},
   "outputs": [],
   "source": [
    "def load(image_path):\n",
    "    \"\"\"Loads an image from a file path, returning a numpy array of shape(image_height, image_width, 3).\n",
    "    \"\"\"\n",
    "    out = io.imread(image_path)\n",
    "\n",
    "    # Convert the image to be in the range (0, 1)\n",
    "    out = out.astype(np.float64) / 255\n",
    "    return out"
   ]
  },
  {
   "cell_type": "markdown",
   "metadata": {},
   "source": [
    "Next, we'll load two sample images and test that we can display them."
   ]
  },
  {
   "cell_type": "code",
   "execution_count": null,
   "metadata": {},
   "outputs": [],
   "source": [
    "# You can change these paths to point to your own images if you want to try them out for fun.\n",
    "# If you do, you must include these image files in your submission.\n",
    "image1_path = './image1.jpg'\n",
    "image2_path = './image2.jpg'\n",
    "\n",
    "def display(img):\n",
    "    # Show image\n",
    "    plt.figure(figsize = (5,5))\n",
    "    plt.imshow(img)\n",
    "    plt.axis('off')\n",
    "    plt.show()\n",
    "    \n",
    "image1 = load(image1_path)\n",
    "image2 = load(image2_path)\n",
    "\n",
    "display(image1)\n",
    "display(image2)"
   ]
  },
  {
   "cell_type": "markdown",
   "metadata": {},
   "source": [
    "## Exercise 1: dimming\n",
    "\n",
    "Recall from lecture that the value of each pixel represents its brightness. Implement a function that takes in an image and returns the same image, but half as bright as the original image."
   ]
  },
  {
   "cell_type": "code",
   "execution_count": null,
   "metadata": {},
   "outputs": [],
   "source": [
    "def dim_image(img):\n",
    "    '''img is an image, represented as a 2D numpy array.'''\n",
    "    # YOUR CODE GOES HERE\n",
    "    out = img\n",
    "    # END YOUR CODE\n",
    "    return out\n",
    "    \n",
    "dim_image2 = dim_image(image2)\n",
    "display (image2)\n",
    "display (dim_image2)"
   ]
  },
  {
   "cell_type": "markdown",
   "metadata": {},
   "source": [
    "## Exercise 2: convert to gray scale\n",
    "\n",
    "Implement a function that takes in an RGB color image and outputs that same image in grayscale.\n",
    "\n",
    "Hint: You may want to look at the documentation for skimage.color to see if there is something useful there."
   ]
  },
  {
   "cell_type": "code",
   "execution_count": null,
   "metadata": {},
   "outputs": [],
   "source": [
    "from skimage import color\n",
    "\n",
    "def convert_to_grayscale(img):\n",
    "    '''img is an RGB image, represented as a 2D numpy array.'''\n",
    "    # YOUR CODE GOES HERE\n",
    "    out = img\n",
    "    # END YOUR CODE\n",
    "    return out\n",
    "    \n",
    "grey_image = convert_to_grayscale(image1)\n",
    "display(grey_image)"
   ]
  },
  {
   "cell_type": "markdown",
   "metadata": {},
   "source": [
    "## Exercise 3: RGB exclusion\n",
    "\n",
    "In the video we watched, we saw that you can represent a color image with a 2-dimensional array of pixels, where the R, G, and B pixels are grouped next to each other, and that this is how LCD screens are implemented.\n",
    "\n",
    "In numpy, the representation is slightly different -- instead of having one 2-dimensional array, we have 3, and each one represents the brightness of the R, G, and B channels.\n",
    "\n",
    "Implement a function that takes in an image and a channel, and returns an image without the specified channel."
   ]
  },
  {
   "cell_type": "code",
   "execution_count": null,
   "metadata": {},
   "outputs": [],
   "source": [
    "def rgb_exclusion(image, channel):\n",
    "    \"\"\"Return image **excluding** the rgb channel specified\n",
    "\n",
    "    Args:\n",
    "        image: numpy array of shape(image_height, image_width, 3).\n",
    "        channel: str specifying the channel. Can be either \"R\", \"G\" or \"B\".\n",
    "\n",
    "    Returns:\n",
    "        out: numpy array of shape(image_height, image_width, 3).\n",
    "    \"\"\"\n",
    "    ### YOUR CODE GOES HERE\n",
    "    out = image\n",
    "    ### END YOUR CODE\n",
    "\n",
    "    return out\n",
    "\n",
    "without_red = rgb_exclusion(image1, 'R')\n",
    "without_blue = rgb_exclusion(image1, 'B')\n",
    "without_green = rgb_exclusion(image1, 'G')\n",
    "\n",
    "print(\"Below is the image without the red channel.\")\n",
    "display(without_red)\n",
    "\n",
    "print(\"Below is the image without the green channel.\")\n",
    "display(without_green)\n",
    "\n",
    "print(\"Below is the image without the blue channel.\")\n",
    "display(without_blue)"
   ]
  },
  {
   "cell_type": "markdown",
   "metadata": {},
   "source": [
    "## Advanced exercise #1: LAB color space\n",
    "\n",
    "RGB is not the only way that we can represent colors. In this advanced exercise, we'll explore the LAB and HSV color spaces.\n",
    "\n",
    "Implement a function that takes in an image and an LAB channel, and returns an image without the specified channel. Again, you may want to look at the skimage.color module to see if there's something in there that can help you."
   ]
  },
  {
   "cell_type": "code",
   "execution_count": null,
   "metadata": {},
   "outputs": [],
   "source": [
    "image_l = lab_decomposition(image1, 'L')\n",
    "image_a = lab_decomposition(image1, 'A')\n",
    "image_b = lab_decomposition(image1, 'B')\n",
    "\n",
    "\n",
    "print(\"Below is the image with only the L channel.\")\n",
    "display(image_l)\n",
    "\n",
    "print(\"Below is the image with only the A channel.\")\n",
    "display(image_a)\n",
    "\n",
    "print(\"Below is the image with only the B channel.\")\n",
    "display(image_b)"
   ]
  },
  {
   "cell_type": "markdown",
   "metadata": {},
   "source": [
    "## Advanced exercise 1a\n",
    "\n",
    "Explain what the L, A and B channels are and what happens when you take away the L and A channels.\n"
   ]
  },
  {
   "cell_type": "markdown",
   "metadata": {},
   "source": [
    "## Advanced exercise 2: HSV exploration\n",
    "\n",
    "Explain what the H, S and V channels are and what happens when you take away the both the H and S channels.\n",
    "\n",
    "It may help you to implement a function that performs HSV decomposition and removes these channels; this is optional."
   ]
  },
  {
   "cell_type": "markdown",
   "metadata": {},
   "source": [
    "## Advanced exercise 3: combining images\n",
    "\n",
    "Implement the following method, which takes in two images and returns a new image where the left half of the image is the left half of image1 and the right half of the image is the right half of image2. Exclude the specified channel for the given image. \n",
    "\n",
    "You should see the left half of the monkey without the red channel and the right half of the house image with no green channel."
   ]
  },
  {
   "cell_type": "code",
   "execution_count": null,
   "metadata": {},
   "outputs": [],
   "source": [
    "def mix_images(image1, image2, channel1, channel2):\n",
    "    \"\"\"\n",
    "    Args:\n",
    "        image1: numpy array of shape(image_height, image_width, 3).\n",
    "        image2: numpy array of shape(image_height, image_width, 3).\n",
    "        channel1: str specifying channel used for image1.\n",
    "        channel2: str specifying channel used for image2.\n",
    "\n",
    "    Returns:\n",
    "        out: numpy array of shape(image_height, image_width, 3).\n",
    "    \"\"\"\n",
    "    ### YOUR CODE GOES HERE\n",
    "    out = image1\n",
    "    ### END YOUR CODE\n",
    "\n",
    "    return out\n",
    "\n",
    "image_mixed = mix_images(image1, image2, channel1='R', channel2='G')\n",
    "display(image_mixed)\n"
   ]
  },
  {
   "cell_type": "markdown",
   "metadata": {},
   "source": [
    "## Advanced exercise 4: exploration\n",
    "\n",
    "Implement a function that takes a single image, and performs a different operation to each of the 4 quadrants of the image, returning an image that merges the 4 quadrants back together.\n",
    "\n",
    "For example, you might remove a channel or two from one quadrant, dim or brighten another quadrant, etc."
   ]
  },
  {
   "cell_type": "code",
   "execution_count": null,
   "metadata": {},
   "outputs": [],
   "source": []
  }
 ],
 "metadata": {
  "kernelspec": {
   "display_name": "Python 3",
   "language": "python",
   "name": "python3"
  },
  "language_info": {
   "codemirror_mode": {
    "name": "ipython",
    "version": 3
   },
   "file_extension": ".py",
   "mimetype": "text/x-python",
   "name": "python",
   "nbconvert_exporter": "python",
   "pygments_lexer": "ipython3",
   "version": "3.7.5"
  }
 },
 "nbformat": 4,
 "nbformat_minor": 2
}
